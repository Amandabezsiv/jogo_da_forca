{
 "cells": [
  {
   "cell_type": "markdown",
   "metadata": {},
   "source": [
    "### Jogo da forca\n",
    "#### Neste notebook vamos implementar o jogo da forca "
   ]
  },
  {
   "cell_type": "code",
   "execution_count": 10,
   "metadata": {},
   "outputs": [
    {
     "name": "stdout",
     "output_type": "stream",
     "text": [
      "Bem vindo ao jogo da forca! \n",
      "Regras: \n",
      " 1 - O tema é computação. \n",
      " 2 - você tem no máximo 5 tentativas, a cada erro você perde 1 tentativa. \n",
      " Primeiro vamos te dar uma dica: _ _ _ _ _ _ _ _ .\n",
      "Letras que você ja escolheu:  set()\n"
     ]
    }
   ],
   "source": [
    "import random\n",
    "# Definindo a função para escolher palavras aleatorias da lista\n",
    "def palavra_aleatoria():\n",
    "    palavras_comp = [\"Algoritmo\",\"Programação\", \"Computador\",\"Desenvolvimento\",\"Interface\",\"Variável\",\"Binário\",\"Framework\",\"Código\",\n",
    "    \"Linguagem\", \"Hardware\", \"Software\", \"Debug\",\"Máquina virtual\",\"API\",\"Git\", \"Repositório\", \"Servidor\", \"Segurança\", \"Banco de dados\"\n",
    "]\n",
    "    return random.choice(palavras_comp)\n",
    "\n",
    "# Definindo a função do jogo da forca \n",
    "def jogo_da_forca():\n",
    "    palavra = palavra_aleatoria().lower()\n",
    "    tamanho_palavra = len(palavra)\n",
    "    dica = []\n",
    "    letras_jogador = set()\n",
    "    \n",
    "    for letra in palavra:\n",
    "        dica.append(\"_\")\n",
    "\n",
    "    print(\n",
    "        \"Bem vindo ao jogo da forca! \\nRegras: \\n 1 - O tema é computação. \\n 2 - você tem no máximo 5 tentativas, a cada erro você perde 1 tentativa. \\n Primeiro vamos te dar uma dica:\", \" \" .join(dica),\n",
    "        \".\",\n",
    "    )\n",
    "\n",
    "    tentativa = 5\n",
    "    letras_certas = 0\n",
    "    while tentativa > 0 and letras_certas < tamanho_palavra :\n",
    "        print(\"Letras que você ja escolheu: \", letras_jogador)\n",
    "        letra = input(\"Digite uma letra:\")\n",
    "        \n",
    "\n",
    "        if letra in letras_jogador:\n",
    "            print('Você ja escolheu essa letra!')\n",
    "            continue\n",
    "        \n",
    "        letras_jogador.add(letra)\n",
    "\n",
    "        if letra in palavra:\n",
    "\n",
    "            # liberar a letra que acertou na dica\n",
    "            for indice in range(tamanho_palavra):\n",
    "                if letra == palavra[indice]:\n",
    "                    letras_certas += 1\n",
    "                    dica[indice] = letra\n",
    "                    \n",
    "            print(dica)\n",
    "        \n",
    "        else:\n",
    "            tentativa -= 1\n",
    "            print(\"Você errou! \\n Tentativas restantes: \", tentativa)\n",
    "    if letras_certas == tamanho_palavra:\n",
    "        print(\"Parabéns! Você venceu! A palavra era:\", palavra)\n",
    "    else:\n",
    "        print(\"Você perdeu! Suas tentativas acabaram. A palavra era:\", palavra)\n",
    "jogo_da_forca()"
   ]
  }
 ],
 "metadata": {
  "kernelspec": {
   "display_name": "Python 3",
   "language": "python",
   "name": "python3"
  },
  "language_info": {
   "codemirror_mode": {
    "name": "ipython",
    "version": 3
   },
   "file_extension": ".py",
   "mimetype": "text/x-python",
   "name": "python",
   "nbconvert_exporter": "python",
   "pygments_lexer": "ipython3",
   "version": "3.12.0"
  }
 },
 "nbformat": 4,
 "nbformat_minor": 2
}
